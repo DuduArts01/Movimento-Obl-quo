{
  "nbformat": 4,
  "nbformat_minor": 0,
  "metadata": {
    "colab": {
      "provenance": []
    },
    "kernelspec": {
      "name": "python3",
      "display_name": "Python 3"
    },
    "language_info": {
      "name": "python"
    }
  },
  "cells": [
    {
      "cell_type": "code",
      "execution_count": null,
      "metadata": {
        "id": "TGkCZLQ4jk9Z"
      },
      "outputs": [],
      "source": [
        "import sympy as sp"
      ]
    },
    {
      "cell_type": "code",
      "source": [
        "s, so, vo, vy, voy, vx, vox, t, g = sp.symbols('S So Vo Vy Voy Vx Vox t g') # Valores Simbólicos"
      ],
      "metadata": {
        "id": "tvP9G2LfkJdf"
      },
      "execution_count": null,
      "outputs": []
    },
    {
      "cell_type": "code",
      "source": [
        "h, ho = sp.symbols('H Ho') # Símbolos para a altura"
      ],
      "metadata": {
        "id": "2hmKAXxCnBUA"
      },
      "execution_count": null,
      "outputs": []
    },
    {
      "cell_type": "code",
      "source": [
        "b = sp.symbols('beta') # Símbolo para a inclinação"
      ],
      "metadata": {
        "id": "jA5czE2rpeLK"
      },
      "execution_count": null,
      "outputs": []
    },
    {
      "cell_type": "markdown",
      "source": [
        "# **Mesa-Prancheta**"
      ],
      "metadata": {
        "id": "7Ud3x7gB0aii"
      }
    },
    {
      "cell_type": "markdown",
      "source": [
        "## **Lançamento a 45º de inclinação**"
      ],
      "metadata": {
        "id": "AV7PVHF3KsfY"
      }
    },
    {
      "cell_type": "markdown",
      "source": [
        "### **Função Horária da Posição**\n",
        "\n",
        "---\n",
        "\n"
      ],
      "metadata": {
        "id": "ylEbbyb-Hd_4"
      }
    },
    {
      "cell_type": "code",
      "source": [
        "Fhp = sp.Eq(s, so + voy * t - g * t**2 / 2 ) # Função Horária da Posição\n",
        "display(Fhp)"
      ],
      "metadata": {
        "colab": {
          "base_uri": "https://localhost:8080/",
          "height": 54
        },
        "id": "bo1CrScEmJd_",
        "outputId": "4f0677d6-8d52-4885-9556-1281241d605e"
      },
      "execution_count": null,
      "outputs": [
        {
          "output_type": "display_data",
          "data": {
            "text/plain": [
              "Eq(S, So + Voy*t - g*t**2/2)"
            ],
            "text/latex": "$\\displaystyle S = So + Voy t - \\frac{g t^{2}}{2}$"
          },
          "metadata": {}
        }
      ]
    },
    {
      "cell_type": "code",
      "source": [
        "# Função Horária da Posição Substituindo S e So por H e Ho\n",
        "Fhph = sp.Eq(h, ho + voy * t - g * t**2 / 2 )\n",
        "display(Fhph)"
      ],
      "metadata": {
        "colab": {
          "base_uri": "https://localhost:8080/",
          "height": 54
        },
        "id": "-wAbGMCBn-ko",
        "outputId": "3617d673-750e-4e16-9d78-7157520b2c7e"
      },
      "execution_count": null,
      "outputs": [
        {
          "output_type": "display_data",
          "data": {
            "text/plain": [
              "Eq(H, Ho + Voy*t - g*t**2/2)"
            ],
            "text/latex": "$\\displaystyle H = Ho + Voy t - \\frac{g t^{2}}{2}$"
          },
          "metadata": {}
        }
      ]
    },
    {
      "cell_type": "code",
      "source": [
        "#Isolando Voy\n",
        "Voyeq = sp.Eq(voy, (h - ho + g*t**2 / 2) / t)\n",
        "display(Voyeq)"
      ],
      "metadata": {
        "colab": {
          "base_uri": "https://localhost:8080/",
          "height": 59
        },
        "id": "1ens2aoFr_jQ",
        "outputId": "f63d9836-d40c-4bc3-ac3f-516382264b6d"
      },
      "execution_count": null,
      "outputs": [
        {
          "output_type": "display_data",
          "data": {
            "text/plain": [
              "Eq(Voy, (H - Ho + g*t**2/2)/t)"
            ],
            "text/latex": "$\\displaystyle Voy = \\frac{H - Ho + \\frac{g t^{2}}{2}}{t}$"
          },
          "metadata": {}
        }
      ]
    },
    {
      "cell_type": "code",
      "source": [
        "# Descobrir a velocidade Inicial(y)\n",
        "Voy = Voyeq.subs({h: 0.35, ho: 0.21, g: 9.81, t: 0.080}) # Substituindo os valores\n",
        "print('Velocidade inicial(y)[m/s]:')\n",
        "display(Voy)"
      ],
      "metadata": {
        "colab": {
          "base_uri": "https://localhost:8080/",
          "height": 56
        },
        "id": "RcXt-hz5qNhQ",
        "outputId": "7752067e-4640-4bc0-8b4f-e667402c182b"
      },
      "execution_count": null,
      "outputs": [
        {
          "output_type": "stream",
          "name": "stdout",
          "text": [
            "Velocidade inicial(y)[m/s]:\n"
          ]
        },
        {
          "output_type": "display_data",
          "data": {
            "text/plain": [
              "Eq(Voy, 2.1424)"
            ],
            "text/latex": "$\\displaystyle Voy = 2.1424$"
          },
          "metadata": {}
        }
      ]
    },
    {
      "cell_type": "markdown",
      "source": [
        "### **Equação de Torricelli**"
      ],
      "metadata": {
        "id": "3yRbtR68Hu6w"
      }
    },
    {
      "cell_type": "code",
      "source": [
        "Torrocelli = sp.Eq(vy**2, voy**2 + 2 * g *(s - so))\n",
        "display(Torrocelli)"
      ],
      "metadata": {
        "colab": {
          "base_uri": "https://localhost:8080/",
          "height": 39
        },
        "id": "rgvG0x_ppIcH",
        "outputId": "c5343962-0e96-48fc-e65c-2f5f24cbb28e"
      },
      "execution_count": null,
      "outputs": [
        {
          "output_type": "display_data",
          "data": {
            "text/plain": [
              "Eq(Vy**2, Voy**2 + 2*g*(S - So))"
            ],
            "text/latex": "$\\displaystyle Vy^{2} = Voy^{2} + 2 g \\left(S - So\\right)$"
          },
          "metadata": {}
        }
      ]
    },
    {
      "cell_type": "code",
      "source": [
        "# Equação de Torricelli com S e So substituido por H e Ho\n",
        "Torricellih = sp.Eq(vy**2, voy**2 - 2 * g * (h - ho))\n",
        "display(Torricellih)"
      ],
      "metadata": {
        "colab": {
          "base_uri": "https://localhost:8080/",
          "height": 39
        },
        "id": "D7QLcpJIpCuY",
        "outputId": "b3767e03-fe6c-42bd-f8ef-8439fcf51d50"
      },
      "execution_count": null,
      "outputs": [
        {
          "output_type": "display_data",
          "data": {
            "text/plain": [
              "Eq(Vy**2, Voy**2 - 2*g*(H - Ho))"
            ],
            "text/latex": "$\\displaystyle Vy^{2} = Voy^{2} - 2 g \\left(H - Ho\\right)$"
          },
          "metadata": {}
        }
      ]
    },
    {
      "cell_type": "code",
      "source": [
        "#Isolando H\n",
        "TorricellihS = sp.Eq(h, (voy**2 - vy**2) / (2 * g) + ho)\n",
        "display(TorricellihS)"
      ],
      "metadata": {
        "colab": {
          "base_uri": "https://localhost:8080/",
          "height": 57
        },
        "id": "Ct7Sq96CsE4Y",
        "outputId": "8da3cade-267a-4b19-cbb1-1193af26051b"
      },
      "execution_count": null,
      "outputs": [
        {
          "output_type": "display_data",
          "data": {
            "text/plain": [
              "Eq(H, Ho + (Voy**2 - Vy**2)/(2*g))"
            ],
            "text/latex": "$\\displaystyle H = Ho + \\frac{Voy^{2} - Vy^{2}}{2 g}$"
          },
          "metadata": {}
        }
      ]
    },
    {
      "cell_type": "code",
      "source": [
        "# Descobrindo o valor da altura\n",
        "H = TorricellihS.subs({vy: 1.01, voy: 2.1424, ho: 0.21, g: 9.81})\n",
        "display(H)"
      ],
      "metadata": {
        "colab": {
          "base_uri": "https://localhost:8080/",
          "height": 39
        },
        "id": "xJw0EZrMsqjA",
        "outputId": "6cff0a97-a883-4a2a-d0b2-b7578441981d"
      },
      "execution_count": null,
      "outputs": [
        {
          "output_type": "display_data",
          "data": {
            "text/plain": [
              "Eq(H, 0.391945859327217)"
            ],
            "text/latex": "$\\displaystyle H = 0.391945859327217$"
          },
          "metadata": {}
        }
      ]
    },
    {
      "cell_type": "markdown",
      "source": [
        "### **Erro relativo da Altura**\n",
        "\n",
        "\n",
        "\n"
      ],
      "metadata": {
        "id": "SAbGeWQyIlPw"
      }
    },
    {
      "cell_type": "code",
      "source": [
        "# Erro relativo da altura\n",
        "Er = 100 * sp.Abs(H.rhs.evalf() - 0.35) / 0.35\n",
        "print(f'Erro relativo: {Er:.2f}%')"
      ],
      "metadata": {
        "colab": {
          "base_uri": "https://localhost:8080/"
        },
        "id": "oZIgSaGnWyXX",
        "outputId": "4ec33ff9-a58b-4880-b259-e1f4176c81e4"
      },
      "execution_count": null,
      "outputs": [
        {
          "output_type": "stream",
          "name": "stdout",
          "text": [
            "Erro relativo: 11.98%\n"
          ]
        }
      ]
    },
    {
      "cell_type": "markdown",
      "source": [
        "### **Descobrindo a Velocidade Final teórica**"
      ],
      "metadata": {
        "id": "EUfI-YetIreg"
      }
    },
    {
      "cell_type": "code",
      "source": [
        "# Descobrindo a velocidade Final(y) teórica\n",
        "Torricellihvelocidadefinal = sp.Eq(vy, (voy**2 - 2 * g * (h - ho))**0.5)\n",
        "Vteorico = Torricellihvelocidadefinal.subs({voy: 2.1424, ho: 0.21, h: 0.35, g: 9.81})\n",
        "\n",
        "\n",
        "print('Velocidade final teórica(y)[m/s]:')\n",
        "display(Vteorico)"
      ],
      "metadata": {
        "colab": {
          "base_uri": "https://localhost:8080/",
          "height": 56
        },
        "id": "QKNiQydrCpfZ",
        "outputId": "6ce5e0a8-7e08-4bad-edd5-074f181dd4b9"
      },
      "execution_count": null,
      "outputs": [
        {
          "output_type": "stream",
          "name": "stdout",
          "text": [
            "Velocidade final teórica(y)[m/s]:\n"
          ]
        },
        {
          "output_type": "display_data",
          "data": {
            "text/plain": [
              "Eq(Vy, 1.3576)"
            ],
            "text/latex": "$\\displaystyle Vy = 1.3576$"
          },
          "metadata": {}
        }
      ]
    },
    {
      "cell_type": "markdown",
      "source": [
        "### **Erro relativo da Velocidade Final do Sensor de Pasco**"
      ],
      "metadata": {
        "id": "Q0yTdMtrIwZn"
      }
    },
    {
      "cell_type": "code",
      "source": [
        "# Erro relativo da Velocidade Final(y)\n",
        "Er = 100 * sp.Abs(Vteorico.rhs.evalf() - 1.01) / Vteorico.rhs.evalf()\n",
        "print(f'Erro relativo da Velocidade Final(y): {Er:.2f}%')"
      ],
      "metadata": {
        "colab": {
          "base_uri": "https://localhost:8080/"
        },
        "id": "_GtI_FoiI1CA",
        "outputId": "cf132777-2167-44cc-ada1-648298d1a93a"
      },
      "execution_count": null,
      "outputs": [
        {
          "output_type": "stream",
          "name": "stdout",
          "text": [
            "Erro relativo da Velocidade Final(y): 25.60%\n"
          ]
        }
      ]
    },
    {
      "cell_type": "markdown",
      "source": [
        "### **Velocidade Inicial Teórica**"
      ],
      "metadata": {
        "id": "6fCLnFtkqTK7"
      }
    },
    {
      "cell_type": "code",
      "source": [
        "# Velocidade inicial(y)\n",
        "Velocidade_inicial_y = sp.Eq(voy, vo * sp.sin(b))\n",
        "display(Velocidade_inicial_y)"
      ],
      "metadata": {
        "colab": {
          "base_uri": "https://localhost:8080/",
          "height": 39
        },
        "id": "PJn9UdtDqUGz",
        "outputId": "16c443fd-3af2-42f9-bd57-ab98b75f510d"
      },
      "execution_count": null,
      "outputs": [
        {
          "output_type": "display_data",
          "data": {
            "text/plain": [
              "Eq(Voy, Vo*sin(beta))"
            ],
            "text/latex": "$\\displaystyle Voy = Vo \\sin{\\left(\\beta \\right)}$"
          },
          "metadata": {}
        }
      ]
    },
    {
      "cell_type": "code",
      "source": [
        "# Isolando Vo\n",
        "voisolado = sp.Eq(vo, (voy / sp.sin(b)))\n",
        "display(voisolado)"
      ],
      "metadata": {
        "colab": {
          "base_uri": "https://localhost:8080/",
          "height": 56
        },
        "id": "AVac5xpCqVKi",
        "outputId": "9310e84b-9ffa-4aee-ab6e-b9daeb5d14b8"
      },
      "execution_count": null,
      "outputs": [
        {
          "output_type": "display_data",
          "data": {
            "text/plain": [
              "Eq(Vo, Voy/sin(beta))"
            ],
            "text/latex": "$\\displaystyle Vo = \\frac{Voy}{\\sin{\\left(\\beta \\right)}}$"
          },
          "metadata": {}
        }
      ]
    },
    {
      "cell_type": "code",
      "source": [
        "# Descobrindo a velocidade inicial(y) teórico\n",
        "Vo_teorico = voisolado.subs({voy: 2.1424, b: sp.pi / 4})\n",
        "display(Vo_teorico.evalf())"
      ],
      "metadata": {
        "colab": {
          "base_uri": "https://localhost:8080/",
          "height": 39
        },
        "id": "AaHABj6yqXvz",
        "outputId": "c9cc1c1e-6caa-4e1a-f2cd-497948bd29f0"
      },
      "execution_count": null,
      "outputs": [
        {
          "output_type": "display_data",
          "data": {
            "text/plain": [
              "Eq(Vo, 3.02981113602812)"
            ],
            "text/latex": "$\\displaystyle Vo = 3.02981113602812$"
          },
          "metadata": {}
        }
      ]
    },
    {
      "cell_type": "markdown",
      "source": [
        "## **Lançamento a 30º de inclinação**"
      ],
      "metadata": {
        "id": "F3xGQzRfMPPI"
      }
    },
    {
      "cell_type": "markdown",
      "source": [
        "### **Função Horária da Posição**\n"
      ],
      "metadata": {
        "id": "yw5pCgkiMWTP"
      }
    },
    {
      "cell_type": "code",
      "source": [
        "Fhp = sp.Eq(s, so + voy * t - g * t**2 / 2 ) # Função Horária da Posição\n",
        "display(Fhp)"
      ],
      "metadata": {
        "colab": {
          "base_uri": "https://localhost:8080/",
          "height": 54
        },
        "id": "o6t-d5NLMR4g",
        "outputId": "a1847a19-8d17-42a2-cfec-0b39af6d0169"
      },
      "execution_count": null,
      "outputs": [
        {
          "output_type": "display_data",
          "data": {
            "text/plain": [
              "Eq(S, So + Voy*t - g*t**2/2)"
            ],
            "text/latex": "$\\displaystyle S = So + Voy t - \\frac{g t^{2}}{2}$"
          },
          "metadata": {}
        }
      ]
    },
    {
      "cell_type": "code",
      "source": [
        "# Função Horária da Posição Substituindo S e So por H e Ho\n",
        "Fhph = sp.Eq(h, ho + voy * t - g * t**2 / 2 )\n",
        "display(Fhph)"
      ],
      "metadata": {
        "colab": {
          "base_uri": "https://localhost:8080/",
          "height": 54
        },
        "id": "fFOVy2k6MbTP",
        "outputId": "4bd7a187-b220-4dd7-d3d3-b6fd2080e308"
      },
      "execution_count": null,
      "outputs": [
        {
          "output_type": "display_data",
          "data": {
            "text/plain": [
              "Eq(H, Ho + Voy*t - g*t**2/2)"
            ],
            "text/latex": "$\\displaystyle H = Ho + Voy t - \\frac{g t^{2}}{2}$"
          },
          "metadata": {}
        }
      ]
    },
    {
      "cell_type": "code",
      "source": [
        "#Isolando Voy\n",
        "Voyeq = sp.Eq(voy, (h - ho + g*t**2 / 2) / t)\n",
        "display(Voyeq)"
      ],
      "metadata": {
        "colab": {
          "base_uri": "https://localhost:8080/",
          "height": 59
        },
        "id": "hEL2xjtPMdqQ",
        "outputId": "cb4dffdd-c681-4d4e-b919-6d0a13d40f90"
      },
      "execution_count": null,
      "outputs": [
        {
          "output_type": "display_data",
          "data": {
            "text/plain": [
              "Eq(Voy, (H - Ho + g*t**2/2)/t)"
            ],
            "text/latex": "$\\displaystyle Voy = \\frac{H - Ho + \\frac{g t^{2}}{2}}{t}$"
          },
          "metadata": {}
        }
      ]
    },
    {
      "cell_type": "code",
      "source": [
        "# Descobrir a velocidade Inicial(y)\n",
        "Voy = Voyeq.subs({h: 0.33, ho: 0.175, g: 9.81, t: 0.080}) # Substituindo os valores\n",
        "print('Velocidade inicial(y)[m/s]:')\n",
        "display(Voy)"
      ],
      "metadata": {
        "colab": {
          "base_uri": "https://localhost:8080/",
          "height": 56
        },
        "id": "U1ftQVZmMgC3",
        "outputId": "b0f3338c-246a-4d6a-83d5-14fc2aa6192f"
      },
      "execution_count": null,
      "outputs": [
        {
          "output_type": "stream",
          "name": "stdout",
          "text": [
            "Velocidade inicial(y)[m/s]:\n"
          ]
        },
        {
          "output_type": "display_data",
          "data": {
            "text/plain": [
              "Eq(Voy, 2.3299)"
            ],
            "text/latex": "$\\displaystyle Voy = 2.3299$"
          },
          "metadata": {}
        }
      ]
    },
    {
      "cell_type": "markdown",
      "source": [
        "### **Equação de Torricelli**"
      ],
      "metadata": {
        "id": "EjI01Lr6MiOP"
      }
    },
    {
      "cell_type": "code",
      "source": [
        "Torrocelli = sp.Eq(vy**2, voy**2 + 2 * g *(s - so))\n",
        "display(Torrocelli)"
      ],
      "metadata": {
        "colab": {
          "base_uri": "https://localhost:8080/",
          "height": 39
        },
        "id": "d-F7P9pyMowf",
        "outputId": "b2ec6933-98b1-4d07-86aa-d84d8726a39e"
      },
      "execution_count": null,
      "outputs": [
        {
          "output_type": "display_data",
          "data": {
            "text/plain": [
              "Eq(Vy**2, Voy**2 + 2*g*(S - So))"
            ],
            "text/latex": "$\\displaystyle Vy^{2} = Voy^{2} + 2 g \\left(S - So\\right)$"
          },
          "metadata": {}
        }
      ]
    },
    {
      "cell_type": "code",
      "source": [
        "# Equação de Torricelli com S e So substituido por H e Ho\n",
        "Torricellih = sp.Eq(vy**2, voy**2 - 2 * g * (h - ho))\n",
        "display(Torricellih)"
      ],
      "metadata": {
        "colab": {
          "base_uri": "https://localhost:8080/",
          "height": 39
        },
        "id": "wB1Ofj2sMrn4",
        "outputId": "c3b85083-76cd-4f64-80bf-3115ee2832c7"
      },
      "execution_count": null,
      "outputs": [
        {
          "output_type": "display_data",
          "data": {
            "text/plain": [
              "Eq(Vy**2, Voy**2 - 2*g*(H - Ho))"
            ],
            "text/latex": "$\\displaystyle Vy^{2} = Voy^{2} - 2 g \\left(H - Ho\\right)$"
          },
          "metadata": {}
        }
      ]
    },
    {
      "cell_type": "code",
      "source": [
        "#Isolando H\n",
        "TorricellihS = sp.Eq(h, (voy**2 - vy**2) / (2 * g) + ho)\n",
        "display(TorricellihS)"
      ],
      "metadata": {
        "colab": {
          "base_uri": "https://localhost:8080/",
          "height": 57
        },
        "id": "KycEKVwWMuJw",
        "outputId": "fce718ca-bdd8-4b0e-8dc1-c889305a5b7f"
      },
      "execution_count": null,
      "outputs": [
        {
          "output_type": "display_data",
          "data": {
            "text/plain": [
              "Eq(H, Ho + (Voy**2 - Vy**2)/(2*g))"
            ],
            "text/latex": "$\\displaystyle H = Ho + \\frac{Voy^{2} - Vy^{2}}{2 g}$"
          },
          "metadata": {}
        }
      ]
    },
    {
      "cell_type": "code",
      "source": [
        "# Descobrindo o valor da altura\n",
        "H = TorricellihS.subs({vy: 1.58, voy: 2.3299, ho: 0.175, g: 9.81})\n",
        "display(H)"
      ],
      "metadata": {
        "colab": {
          "base_uri": "https://localhost:8080/",
          "height": 39
        },
        "id": "dwqoovcfMwpv",
        "outputId": "ce94e80b-adae-4046-fe53-b45212bbf53d"
      },
      "execution_count": null,
      "outputs": [
        {
          "output_type": "display_data",
          "data": {
            "text/plain": [
              "Eq(H, 0.324441081039755)"
            ],
            "text/latex": "$\\displaystyle H = 0.324441081039755$"
          },
          "metadata": {}
        }
      ]
    },
    {
      "cell_type": "markdown",
      "source": [
        "### **Erro relativo da Altura**\n"
      ],
      "metadata": {
        "id": "5Sg0Q1QIM4AA"
      }
    },
    {
      "cell_type": "code",
      "source": [
        "# Erro relativo da altura\n",
        "Er = 100 * sp.Abs(H.rhs.evalf() - 0.33) / 0.33\n",
        "print(f'Erro relativo: {Er:.2f}%')"
      ],
      "metadata": {
        "colab": {
          "base_uri": "https://localhost:8080/"
        },
        "id": "cYQTAHU1M0vg",
        "outputId": "455bbe09-d00e-4ae2-8529-bd946181cfd5"
      },
      "execution_count": null,
      "outputs": [
        {
          "output_type": "stream",
          "name": "stdout",
          "text": [
            "Erro relativo: 1.68%\n"
          ]
        }
      ]
    },
    {
      "cell_type": "markdown",
      "source": [
        "### **Descobrindo a Velocidade Final teórica**"
      ],
      "metadata": {
        "id": "IgopwaU4M-2A"
      }
    },
    {
      "cell_type": "code",
      "source": [
        "# Descobrindo a velocidade Final(y) teórica\n",
        "Torricellihvelocidadefinal = sp.Eq(vy, (voy**2 - 2 * g * (h - ho))**0.5)\n",
        "Vteorico = Torricellihvelocidadefinal.subs({voy: 2.3299, ho: 0.175, h: 0.33, g: 9.81})\n",
        "\n",
        "\n",
        "print('Velocidade final teórica(y)[m/s]:')\n",
        "display(Vteorico)"
      ],
      "metadata": {
        "colab": {
          "base_uri": "https://localhost:8080/",
          "height": 56
        },
        "id": "ouq9knlfNDgw",
        "outputId": "d7ca0d13-1d01-44d1-c04b-6161c45ff6e4"
      },
      "execution_count": null,
      "outputs": [
        {
          "output_type": "stream",
          "name": "stdout",
          "text": [
            "Velocidade final teórica(y)[m/s]:\n"
          ]
        },
        {
          "output_type": "display_data",
          "data": {
            "text/plain": [
              "Eq(Vy, 1.5451)"
            ],
            "text/latex": "$\\displaystyle Vy = 1.5451$"
          },
          "metadata": {}
        }
      ]
    },
    {
      "cell_type": "markdown",
      "source": [
        "### **Erro relativo da Velocidade Final do Sensor de Pasco**"
      ],
      "metadata": {
        "id": "oTnAuTDPNNQg"
      }
    },
    {
      "cell_type": "code",
      "source": [
        "# Erro relativo da Velocidade Final(y)\n",
        "Er = 100 * sp.Abs(Vteorico.rhs.evalf() - 1.58) / Vteorico.rhs.evalf()\n",
        "print(f'Erro relativo da Velocidade Final(y): {Er:.2f}%')"
      ],
      "metadata": {
        "colab": {
          "base_uri": "https://localhost:8080/"
        },
        "id": "Vrt2jLAaNKUf",
        "outputId": "8a8f1c21-29a9-4d9c-f731-38aee3a1d9e8"
      },
      "execution_count": null,
      "outputs": [
        {
          "output_type": "stream",
          "name": "stdout",
          "text": [
            "Erro relativo da Velocidade Final(y): 2.26%\n"
          ]
        }
      ]
    },
    {
      "cell_type": "markdown",
      "source": [
        "### **Velocidade Inicial Teórica**"
      ],
      "metadata": {
        "id": "s-ZwSX7vk0xL"
      }
    },
    {
      "cell_type": "code",
      "source": [
        "# Velocidade inicial(y)\n",
        "Velocidade_inicial_y = sp.Eq(voy, vo * sp.sin(b))\n",
        "display(Velocidade_inicial_y)"
      ],
      "metadata": {
        "colab": {
          "base_uri": "https://localhost:8080/",
          "height": 39
        },
        "id": "ZqAu6GVwk7kL",
        "outputId": "82250f0b-e0d0-4d03-e341-087538106c1f"
      },
      "execution_count": null,
      "outputs": [
        {
          "output_type": "display_data",
          "data": {
            "text/plain": [
              "Eq(Voy, Vo*sin(beta))"
            ],
            "text/latex": "$\\displaystyle Voy = Vo \\sin{\\left(\\beta \\right)}$"
          },
          "metadata": {}
        }
      ]
    },
    {
      "cell_type": "code",
      "source": [
        "# Isolando Vo\n",
        "voisolado = sp.Eq(vo, (voy / sp.sin(b)))\n",
        "display(voisolado)"
      ],
      "metadata": {
        "colab": {
          "base_uri": "https://localhost:8080/",
          "height": 56
        },
        "id": "yA-7gXGRp9Za",
        "outputId": "575c3e35-ec69-490a-b1b1-fd10848e02b7"
      },
      "execution_count": null,
      "outputs": [
        {
          "output_type": "display_data",
          "data": {
            "text/plain": [
              "Eq(Vo, Voy/sin(beta))"
            ],
            "text/latex": "$\\displaystyle Vo = \\frac{Voy}{\\sin{\\left(\\beta \\right)}}$"
          },
          "metadata": {}
        }
      ]
    },
    {
      "cell_type": "code",
      "source": [
        "# Descobrindo a velocidade inicial(y) teórico\n",
        "Vo_teorico = voisolado.subs({voy: 2.3299, b: sp.pi / 6})\n",
        "display(Vo_teorico)"
      ],
      "metadata": {
        "colab": {
          "base_uri": "https://localhost:8080/",
          "height": 39
        },
        "id": "I0L-MXK9pnSi",
        "outputId": "eaa1a899-4d72-467f-d170-a4dfa1425bf2"
      },
      "execution_count": null,
      "outputs": [
        {
          "output_type": "display_data",
          "data": {
            "text/plain": [
              "Eq(Vo, 4.6598)"
            ],
            "text/latex": "$\\displaystyle Vo = 4.6598$"
          },
          "metadata": {}
        }
      ]
    },
    {
      "cell_type": "markdown",
      "source": [
        "# **Mesa-Mesa**"
      ],
      "metadata": {
        "id": "mq3-wFG-0r7a"
      }
    },
    {
      "cell_type": "markdown",
      "source": [
        "## **Eixo X**"
      ],
      "metadata": {
        "id": "WPJRokrwB8Zi"
      }
    },
    {
      "cell_type": "markdown",
      "source": [
        "### **Função horária dos espaços**"
      ],
      "metadata": {
        "id": "75Jy_vsyB_bq"
      }
    },
    {
      "cell_type": "code",
      "source": [
        "# Função Horária dos Espaços V = Vx (MRU)\n",
        "funcEspaço = sp.Eq(s, so + vx * t)\n",
        "display(funcEspaço)"
      ],
      "metadata": {
        "colab": {
          "base_uri": "https://localhost:8080/",
          "height": 39
        },
        "id": "vxsuqR59CGZR",
        "outputId": "8315cae7-1a4e-424a-d8a6-18b9cf2df636"
      },
      "execution_count": null,
      "outputs": [
        {
          "output_type": "display_data",
          "data": {
            "text/plain": [
              "Eq(S, So + Vx*t)"
            ],
            "text/latex": "$\\displaystyle S = So + Vx t$"
          },
          "metadata": {}
        }
      ]
    },
    {
      "cell_type": "code",
      "source": [
        "# Vox = Vx --> MRU(velocidade Constante)\n",
        "VxVox = sp.Eq(vox, vx)\n",
        "display(VxVox)"
      ],
      "metadata": {
        "colab": {
          "base_uri": "https://localhost:8080/",
          "height": 39
        },
        "id": "TdyMgJ7OEdlN",
        "outputId": "a4dfa3fe-c631-4e71-d244-4e9c4f7c2a9c"
      },
      "execution_count": null,
      "outputs": [
        {
          "output_type": "display_data",
          "data": {
            "text/plain": [
              "Eq(Vox, Vx)"
            ],
            "text/latex": "$\\displaystyle Vox = Vx$"
          },
          "metadata": {}
        }
      ]
    },
    {
      "cell_type": "code",
      "source": [
        "# Substituindo V por Vox\n",
        "funcEspaçoVox = sp.Eq(s, so + vox * t)\n",
        "display(funcEspaçoVox)"
      ],
      "metadata": {
        "colab": {
          "base_uri": "https://localhost:8080/",
          "height": 39
        },
        "id": "M6VGoRHHC2GY",
        "outputId": "d1c170a4-b98e-43d6-c287-f52a22b5eb2e"
      },
      "execution_count": null,
      "outputs": [
        {
          "output_type": "display_data",
          "data": {
            "text/plain": [
              "Eq(S, So + Vox*t)"
            ],
            "text/latex": "$\\displaystyle S = So + Vox t$"
          },
          "metadata": {}
        }
      ]
    },
    {
      "cell_type": "markdown",
      "source": [
        "**Isolando Vox**"
      ],
      "metadata": {
        "id": "qi9QyBR3EC9H"
      }
    },
    {
      "cell_type": "code",
      "source": [
        "# Isolando Vox\n",
        "Voxeq = sp.Eq(vox, (s - so) / t)\n",
        "display(Voxeq)"
      ],
      "metadata": {
        "colab": {
          "base_uri": "https://localhost:8080/",
          "height": 52
        },
        "id": "gUHv8CpDDVIg",
        "outputId": "82869901-3c1e-4d88-8082-9c603509ce3b"
      },
      "execution_count": null,
      "outputs": [
        {
          "output_type": "display_data",
          "data": {
            "text/plain": [
              "Eq(Vox, (S - So)/t)"
            ],
            "text/latex": "$\\displaystyle Vox = \\frac{S - So}{t}$"
          },
          "metadata": {}
        }
      ]
    },
    {
      "cell_type": "code",
      "source": [
        "# Vox é um componente vetorial de Vo\n",
        "Voxvetorial = sp.Eq(vox, vo * sp.cos(b))\n",
        "display(Voxvetorial)"
      ],
      "metadata": {
        "colab": {
          "base_uri": "https://localhost:8080/",
          "height": 39
        },
        "id": "GbhaJU-8HdDM",
        "outputId": "02c3e99a-6211-45cc-b5b9-1318a8550d21"
      },
      "execution_count": null,
      "outputs": [
        {
          "output_type": "display_data",
          "data": {
            "text/plain": [
              "Eq(Vox, Vo*cos(beta))"
            ],
            "text/latex": "$\\displaystyle Vox = Vo \\cos{\\left(\\beta \\right)}$"
          },
          "metadata": {}
        }
      ]
    },
    {
      "cell_type": "code",
      "source": [
        "# Isolando Vo\n",
        "voisolado = sp.Eq(vo, (vox / sp.cos(b)))\n",
        "display(voisolado)"
      ],
      "metadata": {
        "colab": {
          "base_uri": "https://localhost:8080/",
          "height": 56
        },
        "id": "B7X524i6H7w8",
        "outputId": "85e15263-d011-44c5-a98d-004e64b5497e"
      },
      "execution_count": null,
      "outputs": [
        {
          "output_type": "display_data",
          "data": {
            "text/plain": [
              "Eq(Vo, Vox/cos(beta))"
            ],
            "text/latex": "$\\displaystyle Vo = \\frac{Vox}{\\cos{\\left(\\beta \\right)}}$"
          },
          "metadata": {}
        }
      ]
    },
    {
      "cell_type": "markdown",
      "source": [
        "### **Eixo Y**"
      ],
      "metadata": {
        "id": "f7hyw_MvF3iP"
      }
    },
    {
      "cell_type": "markdown",
      "source": [
        "**Descobrindo a altura**"
      ],
      "metadata": {
        "id": "y0LF3RXTF7sQ"
      }
    },
    {
      "cell_type": "code",
      "source": [
        "# Com base na equação de Torricelli, pode-se descobrir a altura máxima\n",
        "display(Torricellih)"
      ],
      "metadata": {
        "colab": {
          "base_uri": "https://localhost:8080/",
          "height": 39
        },
        "id": "fPJkp9lKGT8H",
        "outputId": "e9c1dfe3-a4bf-45be-a54f-e3f632a36206"
      },
      "execution_count": null,
      "outputs": [
        {
          "output_type": "display_data",
          "data": {
            "text/plain": [
              "Eq(Vy**2, Voy**2 - 2*g*(H - Ho))"
            ],
            "text/latex": "$\\displaystyle Vy^{2} = Voy^{2} - 2 g \\left(H - Ho\\right)$"
          },
          "metadata": {}
        }
      ]
    },
    {
      "cell_type": "code",
      "source": [
        "# Altura máxima quando Vy é 0\n",
        "AlturaMaximaV = sp.Eq(0, voy**2 -2 * g * (h - ho))\n",
        "display(AlturaMaximaV)"
      ],
      "metadata": {
        "colab": {
          "base_uri": "https://localhost:8080/",
          "height": 39
        },
        "id": "PEkwOPSKGmWH",
        "outputId": "6acb85a0-00ee-45d8-ea28-7ad05b8d3a4a"
      },
      "execution_count": null,
      "outputs": [
        {
          "output_type": "display_data",
          "data": {
            "text/plain": [
              "Eq(0, Voy**2 - 2*g*(H - Ho))"
            ],
            "text/latex": "$\\displaystyle 0 = Voy^{2} - 2 g \\left(H - Ho\\right)$"
          },
          "metadata": {}
        }
      ]
    },
    {
      "cell_type": "code",
      "source": [
        "# Isolando a altura\n",
        "AlturaMaxima = sp.Eq(h, voy**2 / (2 * g) + ho)\n",
        "display(AlturaMaxima)"
      ],
      "metadata": {
        "colab": {
          "base_uri": "https://localhost:8080/",
          "height": 57
        },
        "id": "TsCfqbkBG6CF",
        "outputId": "8081b56d-ccd7-4290-a10e-03a2de2c7395"
      },
      "execution_count": null,
      "outputs": [
        {
          "output_type": "display_data",
          "data": {
            "text/plain": [
              "Eq(H, Ho + Voy**2/(2*g))"
            ],
            "text/latex": "$\\displaystyle H = Ho + \\frac{Voy^{2}}{2 g}$"
          },
          "metadata": {}
        }
      ]
    },
    {
      "cell_type": "code",
      "source": [
        "# Voy é um componente vetorial de Vo\n",
        "Voyvetorial = sp.Eq(voy, vo * sp.sin(b))\n",
        "display(Voyvetorial)"
      ],
      "metadata": {
        "colab": {
          "base_uri": "https://localhost:8080/",
          "height": 39
        },
        "id": "v_10F_PQpL21",
        "outputId": "1e926818-33ef-4ab0-d27f-e580270d1dcc"
      },
      "execution_count": null,
      "outputs": [
        {
          "output_type": "display_data",
          "data": {
            "text/plain": [
              "Eq(Voy, Vo*sin(beta))"
            ],
            "text/latex": "$\\displaystyle Voy = Vo \\sin{\\left(\\beta \\right)}$"
          },
          "metadata": {}
        }
      ]
    },
    {
      "cell_type": "markdown",
      "source": [
        "### **Lançamento para 45º**"
      ],
      "metadata": {
        "id": "J8GRFIcEEPy4"
      }
    },
    {
      "cell_type": "markdown",
      "source": [
        "### **Valores Teóricos**"
      ],
      "metadata": {
        "id": "ZHtlUAr5EAsD"
      }
    },
    {
      "cell_type": "markdown",
      "source": [
        "**Eixo X**"
      ],
      "metadata": {
        "id": "H12nl1HcEfcr"
      }
    },
    {
      "cell_type": "code",
      "source": [
        "# Descobrindo Vox\n",
        "Vox_teorico = Voxeq.subs({s: 1.448, so: 0, t: 0.675}) # Valor do tempo adaptado\n",
        "print('Vox teórico[m/s]:')\n",
        "display(Vox_teorico)"
      ],
      "metadata": {
        "colab": {
          "base_uri": "https://localhost:8080/",
          "height": 56
        },
        "id": "ujzru8ehCrcs",
        "outputId": "f6f7a905-576c-4481-d616-04137979017a"
      },
      "execution_count": null,
      "outputs": [
        {
          "output_type": "stream",
          "name": "stdout",
          "text": [
            "Vox teórico[m/s]:\n"
          ]
        },
        {
          "output_type": "display_data",
          "data": {
            "text/plain": [
              "Eq(Vox, 2.14518518518519)"
            ],
            "text/latex": "$\\displaystyle Vox = 2.14518518518519$"
          },
          "metadata": {}
        }
      ]
    },
    {
      "cell_type": "markdown",
      "source": [
        "**Calculando Vo**"
      ],
      "metadata": {
        "id": "8Cv2IzY4EoXr"
      }
    },
    {
      "cell_type": "code",
      "source": [
        "Vo = voisolado.subs({vox: 2.14518518518519, b: sp.pi / 4})\n",
        "print('Vo:')\n",
        "display(Vo.evalf())"
      ],
      "metadata": {
        "colab": {
          "base_uri": "https://localhost:8080/",
          "height": 56
        },
        "id": "3Y2LRfsrEuNr",
        "outputId": "1eab26f5-a48e-42b3-c5e6-b4e027ab07d4"
      },
      "execution_count": null,
      "outputs": [
        {
          "output_type": "stream",
          "name": "stdout",
          "text": [
            "Vo:\n"
          ]
        },
        {
          "output_type": "display_data",
          "data": {
            "text/plain": [
              "Eq(Vo, 3.03374998269074)"
            ],
            "text/latex": "$\\displaystyle Vo = 3.03374998269074$"
          },
          "metadata": {}
        }
      ]
    },
    {
      "cell_type": "markdown",
      "source": [
        "**Eixo y**"
      ],
      "metadata": {
        "id": "BXUO0_uZEiU7"
      }
    },
    {
      "cell_type": "code",
      "source": [
        "# Calculando Voy\n",
        "Voy = Voyvetorial.subs({vo: 3.03374998269074, b: sp.pi / 4})\n",
        "print('Voy:')\n",
        "display(Voy.evalf())"
      ],
      "metadata": {
        "colab": {
          "base_uri": "https://localhost:8080/",
          "height": 56
        },
        "id": "E2vuwRCwEeHj",
        "outputId": "32e560b3-bbd2-499f-d98b-2ac1dd4982ae"
      },
      "execution_count": null,
      "outputs": [
        {
          "output_type": "stream",
          "name": "stdout",
          "text": [
            "Voy:\n"
          ]
        },
        {
          "output_type": "display_data",
          "data": {
            "text/plain": [
              "Eq(Voy, 2.14518518518519)"
            ],
            "text/latex": "$\\displaystyle Voy = 2.14518518518519$"
          },
          "metadata": {}
        }
      ]
    },
    {
      "cell_type": "code",
      "source": [
        "# Altura máxima\n",
        "Hmax = AlturaMaxima.subs({ho: 0.225, voy: 2.14518518518519, g: 9.81})\n",
        "print('Hmáx:')\n",
        "display(Hmax)"
      ],
      "metadata": {
        "colab": {
          "base_uri": "https://localhost:8080/",
          "height": 56
        },
        "id": "h8sYkrOaGJYD",
        "outputId": "4f853490-276c-42a1-8795-bbe4f4f75cea"
      },
      "execution_count": null,
      "outputs": [
        {
          "output_type": "stream",
          "name": "stdout",
          "text": [
            "Hmáx:\n"
          ]
        },
        {
          "output_type": "display_data",
          "data": {
            "text/plain": [
              "Eq(H, 0.459547374043732)"
            ],
            "text/latex": "$\\displaystyle H = 0.459547374043732$"
          },
          "metadata": {}
        }
      ]
    },
    {
      "cell_type": "markdown",
      "source": [
        "# **Lançamento para 35º**"
      ],
      "metadata": {
        "id": "FeoqhGcZxv1h"
      }
    },
    {
      "cell_type": "markdown",
      "source": [
        "### **Valores Teóricos**"
      ],
      "metadata": {
        "id": "8kymSO66T-EF"
      }
    },
    {
      "cell_type": "markdown",
      "source": [
        "**Eixo X**"
      ],
      "metadata": {
        "id": "-kvb8SEaT-EF"
      }
    },
    {
      "cell_type": "code",
      "source": [
        "# Descobrindo Vox\n",
        "Vox_teorico = Voxeq.subs({s: 1.375, so: 0, t: 0.45}) # Valor do tempo adaptado\n",
        "print('Vox teórico[m/s]:')\n",
        "display(Vox_teorico)"
      ],
      "metadata": {
        "colab": {
          "base_uri": "https://localhost:8080/",
          "height": 56
        },
        "outputId": "06ee0a13-919d-453a-d4a7-ee62468f644a",
        "id": "EzbwdQp7T-EF"
      },
      "execution_count": null,
      "outputs": [
        {
          "output_type": "stream",
          "name": "stdout",
          "text": [
            "Vox teórico[m/s]:\n"
          ]
        },
        {
          "output_type": "display_data",
          "data": {
            "text/plain": [
              "Eq(Vox, 3.05555555555556)"
            ],
            "text/latex": "$\\displaystyle Vox = 3.05555555555556$"
          },
          "metadata": {}
        }
      ]
    },
    {
      "cell_type": "markdown",
      "source": [
        "**Calculando Vo**"
      ],
      "metadata": {
        "id": "JQhGRsIGT-EF"
      }
    },
    {
      "cell_type": "code",
      "source": [
        "Vo = voisolado.subs({vox: 3.05555555555556, b: sp.pi / 6})\n",
        "print('Vo:')\n",
        "display(Vo.evalf())"
      ],
      "metadata": {
        "colab": {
          "base_uri": "https://localhost:8080/",
          "height": 56
        },
        "outputId": "071d623d-c6e3-4870-b824-47d9045225ef",
        "id": "1V5pKIdQT-EF"
      },
      "execution_count": null,
      "outputs": [
        {
          "output_type": "stream",
          "name": "stdout",
          "text": [
            "Vo:\n"
          ]
        },
        {
          "output_type": "display_data",
          "data": {
            "text/plain": [
              "Eq(Vo, 3.52825164504772)"
            ],
            "text/latex": "$\\displaystyle Vo = 3.52825164504772$"
          },
          "metadata": {}
        }
      ]
    },
    {
      "cell_type": "markdown",
      "source": [
        "**Eixo y**"
      ],
      "metadata": {
        "id": "qY2ZB7TXT-EF"
      }
    },
    {
      "cell_type": "code",
      "source": [
        "# Calculando Voy\n",
        "Voy = Voyvetorial.subs({vo: 3.52825164504772, b: sp.pi / 6})\n",
        "print('Voy:')\n",
        "display(Voy.evalf())"
      ],
      "metadata": {
        "colab": {
          "base_uri": "https://localhost:8080/",
          "height": 56
        },
        "outputId": "f9d3fa59-ccce-482e-8a71-91b921fa9258",
        "id": "0udNdGGvT-EG"
      },
      "execution_count": null,
      "outputs": [
        {
          "output_type": "stream",
          "name": "stdout",
          "text": [
            "Voy:\n"
          ]
        },
        {
          "output_type": "display_data",
          "data": {
            "text/plain": [
              "Eq(Voy, 1.76412582252386)"
            ],
            "text/latex": "$\\displaystyle Voy = 1.76412582252386$"
          },
          "metadata": {}
        }
      ]
    },
    {
      "cell_type": "code",
      "source": [
        "# Altura máxima\n",
        "Hmax = AlturaMaxima.subs({ho: 0.185, voy: 1.76412582252386, g: 9.81})\n",
        "print('Hmáx:')\n",
        "display(Hmax)"
      ],
      "metadata": {
        "colab": {
          "base_uri": "https://localhost:8080/",
          "height": 56
        },
        "outputId": "7a8a68e4-cae5-4327-ae6c-6489e9e664d9",
        "id": "BKCa8zmhT-EG"
      },
      "execution_count": null,
      "outputs": [
        {
          "output_type": "stream",
          "name": "stdout",
          "text": [
            "Hmáx:\n"
          ]
        },
        {
          "output_type": "display_data",
          "data": {
            "text/plain": [
              "Eq(H, 0.343620790912104)"
            ],
            "text/latex": "$\\displaystyle H = 0.343620790912104$"
          },
          "metadata": {}
        }
      ]
    },
    {
      "cell_type": "markdown",
      "source": [
        "# **Mesa-Chão**"
      ],
      "metadata": {
        "id": "geKRXV1APUjj"
      }
    },
    {
      "cell_type": "markdown",
      "source": [
        "## **Eixo X**"
      ],
      "metadata": {
        "id": "lboxy3JWP3Ui"
      }
    },
    {
      "cell_type": "markdown",
      "source": [
        "### **Função horária dos espaços**"
      ],
      "metadata": {
        "id": "dhlDIF9XP3Uj"
      }
    },
    {
      "cell_type": "code",
      "source": [
        "# Função Horária dos Espaços V = Vx (MRU)\n",
        "funcEspaço = sp.Eq(s, so + vx * t)\n",
        "display(funcEspaço)"
      ],
      "metadata": {
        "colab": {
          "base_uri": "https://localhost:8080/",
          "height": 39
        },
        "outputId": "8315cae7-1a4e-424a-d8a6-18b9cf2df636",
        "id": "vhd0M2ufP3Uj"
      },
      "execution_count": null,
      "outputs": [
        {
          "output_type": "display_data",
          "data": {
            "text/plain": [
              "Eq(S, So + Vx*t)"
            ],
            "text/latex": "$\\displaystyle S = So + Vx t$"
          },
          "metadata": {}
        }
      ]
    },
    {
      "cell_type": "code",
      "source": [
        "# Vox = Vx --> MRU(velocidade Constante)\n",
        "VxVox = sp.Eq(vox, vx)\n",
        "display(VxVox)"
      ],
      "metadata": {
        "colab": {
          "base_uri": "https://localhost:8080/",
          "height": 39
        },
        "outputId": "a4dfa3fe-c631-4e71-d244-4e9c4f7c2a9c",
        "id": "bT2kW5EaP3Uk"
      },
      "execution_count": null,
      "outputs": [
        {
          "output_type": "display_data",
          "data": {
            "text/plain": [
              "Eq(Vox, Vx)"
            ],
            "text/latex": "$\\displaystyle Vox = Vx$"
          },
          "metadata": {}
        }
      ]
    },
    {
      "cell_type": "code",
      "source": [
        "# Substituindo V por Vox\n",
        "funcEspaçoVox = sp.Eq(s, so + vox * t)\n",
        "display(funcEspaçoVox)"
      ],
      "metadata": {
        "colab": {
          "base_uri": "https://localhost:8080/",
          "height": 39
        },
        "outputId": "d1c170a4-b98e-43d6-c287-f52a22b5eb2e",
        "id": "DviBr3kSP3Uk"
      },
      "execution_count": null,
      "outputs": [
        {
          "output_type": "display_data",
          "data": {
            "text/plain": [
              "Eq(S, So + Vox*t)"
            ],
            "text/latex": "$\\displaystyle S = So + Vox t$"
          },
          "metadata": {}
        }
      ]
    },
    {
      "cell_type": "markdown",
      "source": [
        "**Isolando Vox**"
      ],
      "metadata": {
        "id": "5RHNW_1TP3Uk"
      }
    },
    {
      "cell_type": "code",
      "source": [
        "# Isolando Vox\n",
        "Voxeq = sp.Eq(vox, (s - so) / t)\n",
        "display(Voxeq)"
      ],
      "metadata": {
        "colab": {
          "base_uri": "https://localhost:8080/",
          "height": 52
        },
        "outputId": "82869901-3c1e-4d88-8082-9c603509ce3b",
        "id": "-IsOU0MYP3Uk"
      },
      "execution_count": null,
      "outputs": [
        {
          "output_type": "display_data",
          "data": {
            "text/plain": [
              "Eq(Vox, (S - So)/t)"
            ],
            "text/latex": "$\\displaystyle Vox = \\frac{S - So}{t}$"
          },
          "metadata": {}
        }
      ]
    },
    {
      "cell_type": "code",
      "source": [
        "# Vox é um componente vetorial de Vo\n",
        "Voxvetorial = sp.Eq(vox, vo * sp.cos(b))\n",
        "display(Voxvetorial)"
      ],
      "metadata": {
        "colab": {
          "base_uri": "https://localhost:8080/",
          "height": 39
        },
        "outputId": "02c3e99a-6211-45cc-b5b9-1318a8550d21",
        "id": "nucmHSwAP3Uk"
      },
      "execution_count": null,
      "outputs": [
        {
          "output_type": "display_data",
          "data": {
            "text/plain": [
              "Eq(Vox, Vo*cos(beta))"
            ],
            "text/latex": "$\\displaystyle Vox = Vo \\cos{\\left(\\beta \\right)}$"
          },
          "metadata": {}
        }
      ]
    },
    {
      "cell_type": "code",
      "source": [
        "# Isolando Vo\n",
        "voisolado = sp.Eq(vo, (vox / sp.cos(b)))\n",
        "display(voisolado)"
      ],
      "metadata": {
        "colab": {
          "base_uri": "https://localhost:8080/",
          "height": 56
        },
        "outputId": "85e15263-d011-44c5-a98d-004e64b5497e",
        "id": "i3UHCG0WP3Ul"
      },
      "execution_count": null,
      "outputs": [
        {
          "output_type": "display_data",
          "data": {
            "text/plain": [
              "Eq(Vo, Vox/cos(beta))"
            ],
            "text/latex": "$\\displaystyle Vo = \\frac{Vox}{\\cos{\\left(\\beta \\right)}}$"
          },
          "metadata": {}
        }
      ]
    },
    {
      "cell_type": "markdown",
      "source": [
        "### **Eixo Y**"
      ],
      "metadata": {
        "id": "U_MmWvvbP3Ul"
      }
    },
    {
      "cell_type": "markdown",
      "source": [
        "**Descobrindo a altura**"
      ],
      "metadata": {
        "id": "qbEFcHPjP3Ul"
      }
    },
    {
      "cell_type": "code",
      "source": [
        "# Com base na equação de Torricelli, pode-se descobrir a altura máxima\n",
        "display(Torricellih)"
      ],
      "metadata": {
        "colab": {
          "base_uri": "https://localhost:8080/",
          "height": 39
        },
        "outputId": "e9c1dfe3-a4bf-45be-a54f-e3f632a36206",
        "id": "f8Pt9x96P3Ul"
      },
      "execution_count": null,
      "outputs": [
        {
          "output_type": "display_data",
          "data": {
            "text/plain": [
              "Eq(Vy**2, Voy**2 - 2*g*(H - Ho))"
            ],
            "text/latex": "$\\displaystyle Vy^{2} = Voy^{2} - 2 g \\left(H - Ho\\right)$"
          },
          "metadata": {}
        }
      ]
    },
    {
      "cell_type": "code",
      "source": [
        "# Altura máxima quando Vy é 0\n",
        "AlturaMaximaV = sp.Eq(0, voy**2 -2 * g * (h - ho))\n",
        "display(AlturaMaximaV)"
      ],
      "metadata": {
        "colab": {
          "base_uri": "https://localhost:8080/",
          "height": 39
        },
        "outputId": "6acb85a0-00ee-45d8-ea28-7ad05b8d3a4a",
        "id": "O-eggd-cP3Um"
      },
      "execution_count": null,
      "outputs": [
        {
          "output_type": "display_data",
          "data": {
            "text/plain": [
              "Eq(0, Voy**2 - 2*g*(H - Ho))"
            ],
            "text/latex": "$\\displaystyle 0 = Voy^{2} - 2 g \\left(H - Ho\\right)$"
          },
          "metadata": {}
        }
      ]
    },
    {
      "cell_type": "code",
      "source": [
        "# Isolando a altura\n",
        "AlturaMaxima = sp.Eq(h, voy**2 / (2 * g) + ho)\n",
        "display(AlturaMaxima)"
      ],
      "metadata": {
        "colab": {
          "base_uri": "https://localhost:8080/",
          "height": 57
        },
        "outputId": "8081b56d-ccd7-4290-a10e-03a2de2c7395",
        "id": "bOzzKKtwP3Um"
      },
      "execution_count": null,
      "outputs": [
        {
          "output_type": "display_data",
          "data": {
            "text/plain": [
              "Eq(H, Ho + Voy**2/(2*g))"
            ],
            "text/latex": "$\\displaystyle H = Ho + \\frac{Voy^{2}}{2 g}$"
          },
          "metadata": {}
        }
      ]
    },
    {
      "cell_type": "code",
      "source": [
        "# Voy é um componente vetorial de Vo\n",
        "Voyvetorial = sp.Eq(voy, vo * sp.sin(b))\n",
        "display(Voyvetorial)"
      ],
      "metadata": {
        "colab": {
          "base_uri": "https://localhost:8080/",
          "height": 39
        },
        "outputId": "1e926818-33ef-4ab0-d27f-e580270d1dcc",
        "id": "bTAektkkP3Um"
      },
      "execution_count": null,
      "outputs": [
        {
          "output_type": "display_data",
          "data": {
            "text/plain": [
              "Eq(Voy, Vo*sin(beta))"
            ],
            "text/latex": "$\\displaystyle Voy = Vo \\sin{\\left(\\beta \\right)}$"
          },
          "metadata": {}
        }
      ]
    },
    {
      "cell_type": "markdown",
      "source": [
        "### **Lançamento para 45º**"
      ],
      "metadata": {
        "id": "majgDPu7P3Um"
      }
    },
    {
      "cell_type": "markdown",
      "source": [
        "### **Valores Teóricos**"
      ],
      "metadata": {
        "id": "yuPoee7TP3Um"
      }
    },
    {
      "cell_type": "markdown",
      "source": [
        "**Eixo X**"
      ],
      "metadata": {
        "id": "VmCeuPKqP3Un"
      }
    },
    {
      "cell_type": "code",
      "source": [
        "# Descobrindo Vox\n",
        "Vox_teorico = Voxeq.subs({s: 2.05, so: 0, t: 0.999}) # Valor do tempo adaptado\n",
        "print('Vox teórico[m/s]:')\n",
        "display(Vox_teorico)"
      ],
      "metadata": {
        "colab": {
          "base_uri": "https://localhost:8080/",
          "height": 56
        },
        "outputId": "184863cd-45c2-4eab-ce2b-0fc01f454908",
        "id": "3Ason-UtP3Un"
      },
      "execution_count": null,
      "outputs": [
        {
          "output_type": "stream",
          "name": "stdout",
          "text": [
            "Vox teórico[m/s]:\n"
          ]
        },
        {
          "output_type": "display_data",
          "data": {
            "text/plain": [
              "Eq(Vox, 2.05205205205205)"
            ],
            "text/latex": "$\\displaystyle Vox = 2.05205205205205$"
          },
          "metadata": {}
        }
      ]
    },
    {
      "cell_type": "markdown",
      "source": [
        "**Calculando Vo**"
      ],
      "metadata": {
        "id": "ynoZ7r1cP3Un"
      }
    },
    {
      "cell_type": "code",
      "source": [
        "Vo = voisolado.subs({vox: 2.05205205205205, b: sp.pi / 4})\n",
        "print('Vo:')\n",
        "display(Vo.evalf())"
      ],
      "metadata": {
        "colab": {
          "base_uri": "https://localhost:8080/",
          "height": 56
        },
        "outputId": "731a08da-bae6-4e70-8ae0-467751ead518",
        "id": "hcaU03ZkP3Un"
      },
      "execution_count": null,
      "outputs": [
        {
          "output_type": "stream",
          "name": "stdout",
          "text": [
            "Vo:\n"
          ]
        },
        {
          "output_type": "display_data",
          "data": {
            "text/plain": [
              "Eq(Vo, 2.90203984270755)"
            ],
            "text/latex": "$\\displaystyle Vo = 2.90203984270755$"
          },
          "metadata": {}
        }
      ]
    },
    {
      "cell_type": "markdown",
      "source": [
        "**Eixo y**"
      ],
      "metadata": {
        "id": "L7ttRgUWP3Un"
      }
    },
    {
      "cell_type": "code",
      "source": [
        "# Calculando Voy\n",
        "Voy = Voyvetorial.subs({vo: 2.90203984270755, b: sp.pi / 4})\n",
        "print('Voy:')\n",
        "display(Voy.evalf())"
      ],
      "metadata": {
        "colab": {
          "base_uri": "https://localhost:8080/",
          "height": 56
        },
        "outputId": "97a29f7a-41bf-4c2c-e96b-a7f73cd952b7",
        "id": "zJunNMlRP3Un"
      },
      "execution_count": null,
      "outputs": [
        {
          "output_type": "stream",
          "name": "stdout",
          "text": [
            "Voy:\n"
          ]
        },
        {
          "output_type": "display_data",
          "data": {
            "text/plain": [
              "Eq(Voy, 2.05205205205205)"
            ],
            "text/latex": "$\\displaystyle Voy = 2.05205205205205$"
          },
          "metadata": {}
        }
      ]
    },
    {
      "cell_type": "code",
      "source": [
        "# Altura máxima\n",
        "Hmax = AlturaMaxima.subs({ho: 0.98, voy: 2.05205205205205, g: 9.81})\n",
        "print('Hmáx:')\n",
        "display(Hmax)"
      ],
      "metadata": {
        "colab": {
          "base_uri": "https://localhost:8080/",
          "height": 56
        },
        "outputId": "f42d3221-4985-4a5d-b0bf-5adfb3af5906",
        "id": "zr-iL5HlP3Un"
      },
      "execution_count": null,
      "outputs": [
        {
          "output_type": "stream",
          "name": "stdout",
          "text": [
            "Hmáx:\n"
          ]
        },
        {
          "output_type": "display_data",
          "data": {
            "text/plain": [
              "Eq(H, 1.19462373212696)"
            ],
            "text/latex": "$\\displaystyle H = 1.19462373212696$"
          },
          "metadata": {}
        }
      ]
    },
    {
      "cell_type": "markdown",
      "source": [
        "### **Lançamento para 30º**"
      ],
      "metadata": {
        "id": "Wkwdtr5sT-EC"
      }
    },
    {
      "cell_type": "markdown",
      "source": [
        "### **Valores Teóricos**"
      ],
      "metadata": {
        "id": "h4VEpsECP3Uo"
      }
    },
    {
      "cell_type": "markdown",
      "source": [
        "**Eixo X**"
      ],
      "metadata": {
        "id": "3chIOgWYP3Uo"
      }
    },
    {
      "cell_type": "code",
      "source": [
        "# Descobrindo Vox\n",
        "Vox_teorico = Voxeq.subs({s: 2.13, so: 0, t: 0.666}) # Valor do tempo adaptado\n",
        "print('Vox teórico[m/s]:')\n",
        "display(Vox_teorico)"
      ],
      "metadata": {
        "colab": {
          "base_uri": "https://localhost:8080/",
          "height": 56
        },
        "outputId": "2bd8770d-b433-4d91-c5c1-a4e453c42e39",
        "id": "cSz1ULvVP3Uo"
      },
      "execution_count": null,
      "outputs": [
        {
          "output_type": "stream",
          "name": "stdout",
          "text": [
            "Vox teórico[m/s]:\n"
          ]
        },
        {
          "output_type": "display_data",
          "data": {
            "text/plain": [
              "Eq(Vox, 3.1981981981982)"
            ],
            "text/latex": "$\\displaystyle Vox = 3.1981981981982$"
          },
          "metadata": {}
        }
      ]
    },
    {
      "cell_type": "markdown",
      "source": [
        "**Calculando Vo**"
      ],
      "metadata": {
        "id": "dJFNW3v7P3Uo"
      }
    },
    {
      "cell_type": "code",
      "source": [
        "Vo = voisolado.subs({vox: 3.1981981981982, b: sp.pi / 6})\n",
        "print('Vo:')\n",
        "display(Vo.evalf())"
      ],
      "metadata": {
        "colab": {
          "base_uri": "https://localhost:8080/",
          "height": 56
        },
        "outputId": "bf534d83-bf5b-410a-f2a6-107514dabd8d",
        "id": "Cf0BApLnP3Uo"
      },
      "execution_count": null,
      "outputs": [
        {
          "output_type": "stream",
          "name": "stdout",
          "text": [
            "Vo:\n"
          ]
        },
        {
          "output_type": "display_data",
          "data": {
            "text/plain": [
              "Eq(Vo, 3.69296118130301)"
            ],
            "text/latex": "$\\displaystyle Vo = 3.69296118130301$"
          },
          "metadata": {}
        }
      ]
    },
    {
      "cell_type": "markdown",
      "source": [
        "**Eixo y**"
      ],
      "metadata": {
        "id": "kH3Qda_HP3Uo"
      }
    },
    {
      "cell_type": "code",
      "source": [
        "# Calculando Voy\n",
        "Voy = Voyvetorial.subs({vo: 3.69296118130301, b: sp.pi / 6})\n",
        "print('Voy:')\n",
        "display(Voy.evalf())"
      ],
      "metadata": {
        "colab": {
          "base_uri": "https://localhost:8080/",
          "height": 56
        },
        "outputId": "dd5f66b6-a346-42f2-b1eb-edff95319e3b",
        "id": "kWzrtbYvP3Uo"
      },
      "execution_count": null,
      "outputs": [
        {
          "output_type": "stream",
          "name": "stdout",
          "text": [
            "Voy:\n"
          ]
        },
        {
          "output_type": "display_data",
          "data": {
            "text/plain": [
              "Eq(Voy, 1.8464805906515)"
            ],
            "text/latex": "$\\displaystyle Voy = 1.8464805906515$"
          },
          "metadata": {}
        }
      ]
    },
    {
      "cell_type": "code",
      "source": [
        "# Altura máxima\n",
        "Hmax = AlturaMaxima.subs({ho: 0.94, voy: 1.8464805906515, g: 9.81})\n",
        "print('Hmáx:')\n",
        "display(Hmax)"
      ],
      "metadata": {
        "colab": {
          "base_uri": "https://localhost:8080/",
          "height": 56
        },
        "outputId": "65641296-bc86-4c91-dda2-26c44e4251f7",
        "id": "Z0BfrNTiP3Uo"
      },
      "execution_count": null,
      "outputs": [
        {
          "output_type": "stream",
          "name": "stdout",
          "text": [
            "Hmáx:\n"
          ]
        },
        {
          "output_type": "display_data",
          "data": {
            "text/plain": [
              "Eq(H, 1.11377627786201)"
            ],
            "text/latex": "$\\displaystyle H = 1.11377627786201$"
          },
          "metadata": {}
        }
      ]
    }
  ]
}